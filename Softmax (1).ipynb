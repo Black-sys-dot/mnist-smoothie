{
 "cells": [
  {
   "cell_type": "code",
   "execution_count": 2,
   "id": "849da4a9-3231-495c-bb0a-70ada6c3bc89",
   "metadata": {},
   "outputs": [],
   "source": [
    "# Importing packages\n",
    "import numpy as np\n",
    "import pandas as pd"
   ]
  },
  {
   "cell_type": "code",
   "execution_count": 5,
   "id": "ca5f62f1-caf9-4188-bf20-886d193ec8cc",
   "metadata": {},
   "outputs": [],
   "source": [
    "# Data loading and preprocessing\n",
    "data=pd.read_csv(\"C:\\\\Users\\\\ayank\\\\Downloads\\\\archive\\\\train.csv\")\n",
    "d=data.drop('label',axis=1)\n",
    "label=data['label']\n",
    "l=pd.get_dummies(label).astype(int)\n",
    "d=d/255.0\n",
    "d=np.array(d)\n",
    "l=np.array(l)"
   ]
  },
  {
   "cell_type": "code",
   "execution_count": 3,
   "id": "cf691e61-ca57-43e8-b5be-79ad543acdc5",
   "metadata": {},
   "outputs": [],
   "source": [
    "# Initializing weights\n",
    "w=np.zeros((np.size(d[0:1]),10))\n",
    "b=np.zeros((1,10))\n",
    "alpha=0.0001"
   ]
  },
  {
   "cell_type": "code",
   "execution_count": 10,
   "id": "ce3c8871-2b4a-4a7c-8555-cd2af92193e2",
   "metadata": {},
   "outputs": [
    {
     "data": {
      "text/plain": [
       "((784, 10), (1, 10))"
      ]
     },
     "execution_count": 10,
     "metadata": {},
     "output_type": "execute_result"
    }
   ],
   "source": [
    "np.shape(w),np.shape(b)"
   ]
  },
  {
   "cell_type": "code",
   "execution_count": 4,
   "id": "4d11faf9-fdf0-4a75-91db-6d22d5f99b19",
   "metadata": {},
   "outputs": [],
   "source": [
    "# Softmax dipshit\n",
    "for i in range(251):\n",
    "    \n",
    "    thetax=d @ w+b\n",
    "    h_x=np.exp(thetax)\n",
    "    h=np.sum(h_x,axis=1)\n",
    "    h_x=h_x/h.reshape(42000,1)\n",
    "    grad=(l-h_x).reshape(42000,1,10)\n",
    "    error=grad*d.reshape(42000,784,1)\n",
    "    error=np.sum(error,axis=0).reshape(784,10)\n",
    "    w=w+alpha*error\n",
    "    b=b+alpha*(np.sum(grad,axis=0)).reshape(1,10)"
   ]
  },
  {
   "cell_type": "code",
   "execution_count": 6,
   "id": "f9c0b5da-329a-4093-9df0-681b8b8c2c3e",
   "metadata": {},
   "outputs": [
    {
     "data": {
      "text/plain": [
       "87.43571428567367"
      ]
     },
     "execution_count": 6,
     "metadata": {},
     "output_type": "execute_result"
    }
   ],
   "source": [
    "# Accuracy check\n",
    "count=0\n",
    "for i in range(42000):\n",
    "    hypo=d[i]@weight+bias\n",
    "    hypo1=np.exp(hypo)\n",
    "    hypo2=hypo1/np.sum(hypo1)\n",
    "    if(int(label[i])==int(np.argmax(hypo2)) and np.max(hypo2)>):\n",
    "        count+=1/420\n",
    "\n",
    "count"
   ]
  },
  {
   "cell_type": "code",
   "execution_count": 20,
   "id": "9f077bde-99a7-4e65-b662-3a802f93bada",
   "metadata": {},
   "outputs": [],
   "source": [
    "np.savetxt(\"E:\\\\softmax\\\\weights.csv\", w, delimiter=\",\")\n",
    "np.savetxt(\"E:\\\\softmax\\\\bias.csv\",b, delimiter=\",\")"
   ]
  },
  {
   "cell_type": "code",
   "execution_count": 3,
   "id": "f31fb5a3-3cd1-4598-b7fb-57d2cf7b0085",
   "metadata": {},
   "outputs": [],
   "source": [
    "weight=np.loadtxt(\"E:\\\\softmax\\\\weights.csv\",delimiter=\",\")\n",
    "bias=np.loadtxt(\"E:\\\\softmax\\\\bias.csv\",delimiter=\",\").reshape(1,10)"
   ]
  },
  {
   "cell_type": "code",
   "execution_count": null,
   "id": "b774e6a4-bd0e-42e3-9c49-186c0045f109",
   "metadata": {},
   "outputs": [],
   "source": []
  }
 ],
 "metadata": {
  "kernelspec": {
   "display_name": "Python 3 (ipykernel)",
   "language": "python",
   "name": "python3"
  },
  "language_info": {
   "codemirror_mode": {
    "name": "ipython",
    "version": 3
   },
   "file_extension": ".py",
   "mimetype": "text/x-python",
   "name": "python",
   "nbconvert_exporter": "python",
   "pygments_lexer": "ipython3",
   "version": "3.13.0"
  }
 },
 "nbformat": 4,
 "nbformat_minor": 5
}
